{
  "nbformat": 4,
  "nbformat_minor": 0,
  "metadata": {
    "colab": {
      "name": "Copie de Copie de  Python and lists.ipynb",
      "provenance": [],
      "collapsed_sections": [],
      "include_colab_link": true
    },
    "kernelspec": {
      "name": "python3",
      "display_name": "Python 3"
    }
  },
  "cells": [
    {
      "cell_type": "markdown",
      "metadata": {
        "id": "view-in-github",
        "colab_type": "text"
      },
      "source": [
        "<a href=\"https://colab.research.google.com/github/xecuter61/France-IOI/blob/master/Copie_de_Copie_de_Python_and_lists.ipynb\" target=\"_parent\"><img src=\"https://colab.research.google.com/assets/colab-badge.svg\" alt=\"Open In Colab\"/></a>"
      ]
    },
    {
      "cell_type": "markdown",
      "metadata": {
        "id": "LoJw-LlCTnWF",
        "colab_type": "text"
      },
      "source": [
        "# Mission 1\n",
        "\n",
        "Create a function that takes a list as a parameter and displays only the elements (and their position) that have positions that are even (0, 2, 4, 6...).\n",
        "\n",
        "Example list = [\"a\", \"b\", \"c\", \"d\", \"e\"], the function should return : \n",
        "- a position 0\n",
        "- c position 2\n",
        "- e position 4"
      ]
    },
    {
      "cell_type": "code",
      "metadata": {
        "id": "C2Lk113KSPUO",
        "colab_type": "code",
        "colab": {}
      },
      "source": [
        "liste = [\"a\", \"b\", \"c\", \"d\", \"e\"]\n",
        "def Mission(liste):\n",
        "    index = 0\n",
        "    for i in liste:\n",
        "        print(f\"{liste[index]} position {index}\")    \n",
        "        index += 1\n",
        "Mission(liste)"
      ],
      "execution_count": null,
      "outputs": []
    },
    {
      "cell_type": "markdown",
      "metadata": {
        "id": "J3bsGIvAT049",
        "colab_type": "text"
      },
      "source": [
        "# Mission 2\n",
        "\n",
        "Create a function that takes a list as a parameter. Then make the function allow to replace the value of an element with another simply by indicating its position, however, only if both elements have the same type."
      ]
    },
    {
      "cell_type": "code",
      "metadata": {
        "id": "Fy1OmPSUXNaP",
        "colab_type": "code",
        "colab": {}
      },
      "source": [
        "liste = [\"a\", \"b\", \"c\", \"d\", \"e\"]\n",
        "\n",
        "def Mission2(liste):\n",
        "    index = int(input())\n",
        "    new_value = input()\n",
        "    liste[index] = new_value\n",
        "    print(liste)\n",
        "\n",
        "\n",
        "\n",
        "\n",
        "Mission2(liste)"
      ],
      "execution_count": null,
      "outputs": []
    },
    {
      "cell_type": "markdown",
      "metadata": {
        "id": "dVl36lvlWLdV",
        "colab_type": "text"
      },
      "source": [
        "# Mission 3\n",
        "\n",
        "Create a function that adds an element to the end of a list and removes the first element so that the list stays the same size."
      ]
    },
    {
      "cell_type": "code",
      "metadata": {
        "id": "pN3_mD4YSPfb",
        "colab_type": "code",
        "colab": {
          "base_uri": "https://localhost:8080/",
          "height": 34
        },
        "outputId": "6c5a0d96-927b-4484-d2dd-9f714bd88a22"
      },
      "source": [
        "liste = [3, 4 , 5 , 6]\n",
        "\n",
        "\n",
        "def Mission3(item, liste):\n",
        "    liste.append(item)\n",
        "    liste.pop(0)\n",
        "    print(liste)\n",
        "\n",
        "Mission3(7, liste)"
      ],
      "execution_count": null,
      "outputs": [
        {
          "output_type": "stream",
          "text": [
            "[4, 5, 6, 7]\n"
          ],
          "name": "stdout"
        }
      ]
    },
    {
      "cell_type": "code",
      "metadata": {
        "id": "mlKH4eKcbTSt",
        "colab_type": "code",
        "colab": {}
      },
      "source": [
        ""
      ],
      "execution_count": null,
      "outputs": []
    },
    {
      "cell_type": "markdown",
      "metadata": {
        "id": "GCvpkWzXXPTf",
        "colab_type": "text"
      },
      "source": [
        "# Mission 4\n",
        "\n",
        "Create a function that does the same thing as the insert method, but at a random position."
      ]
    },
    {
      "cell_type": "code",
      "metadata": {
        "id": "QjLMjogySPk_",
        "colab_type": "code",
        "colab": {}
      },
      "source": [
        "import random\n",
        "liste = [0, 1, 2, 3, 4, 5, 6, 7, 8]\n",
        "\n",
        "index = random.randint(0,len(liste))\n",
        "\n",
        "def Mission4(index, item):\n",
        "    liste.insert(index, item) \n",
        "    print(liste)\n",
        "\n",
        "\n",
        "\n",
        "Mission4(index, \"hello world\")\n"
      ],
      "execution_count": null,
      "outputs": []
    },
    {
      "cell_type": "markdown",
      "metadata": {
        "id": "V8ZS3aECXvuZ",
        "colab_type": "text"
      },
      "source": [
        "# Mission 5\n",
        "\n",
        "Create a function that does the same thing as the pop method for a list containing only characters. The difference is that this function displays a message indicating the number of characters that are identical to the deleted character and still remain in the string. In other words, if there were 3 \"b\" s in the list, and one has just been deleted by your function, the function will display \"there are still 2 letter b s\"."
      ]
    },
    {
      "cell_type": "code",
      "metadata": {
        "id": "ph_j97PoSPmU",
        "colab_type": "code",
        "colab": {}
      },
      "source": [
        "liste = [\"a\", \"b\", \"c\", \"d\", \"e\", \"f\", \"f\", \"f\", \"e\", \"a\"]\n",
        "\n",
        "def Mission5(item_deleted, liste):\n",
        "    liste.remove(item_deleted)\n",
        "    x = liste.count(item_deleted)\n",
        "    print(f\"il reste encore {x} {item_deleted} dans la liste\")\n",
        "\n",
        "\n",
        "Mission5(\"a\", liste)"
      ],
      "execution_count": null,
      "outputs": []
    },
    {
      "cell_type": "markdown",
      "metadata": {
        "id": "geMLdrvAYHKx",
        "colab_type": "text"
      },
      "source": [
        "# Mission 6\n",
        "\n",
        "Create a function that takes in 3 lists as parameters, and indicates the two that are \"closest\". That is to say, the two that have the most elements in common."
      ]
    },
    {
      "cell_type": "code",
      "metadata": {
        "id": "1-cenx3RSPpq",
        "colab_type": "code",
        "colab": {}
      },
      "source": [
        "l1 = [\"a\", \"b\", \"c\", \"d\", \"e\", \"f\", \"f\", \"f\", \"e\", \"a\"]\n",
        "l2 = [\"a\", \"b\", \"c\", \"d\", \"e\", \"f\", \"f\", \"e\", \"a\", \"b\"]\n",
        "l3 = [\"a\", \"a\", \"a\", \"a\", \"a\", \"z\", \"y\", \"r\", \"w\", \"b\"]\n",
        "\n",
        "\n",
        "def Mission6(liste, liste2, liste3):\n",
        "    liste = set(liste)\n",
        "    liste2 = set(liste2)\n",
        "    liste3 = set(liste3)\n",
        "    cor_l1_l2 = liste & liste2\n",
        "    cor_l1_l3 = liste & liste3\n",
        "    cor_l2_l3 = liste2 & liste3\n",
        "    if len(cor_l2_l3) < len(cor_l1_l2) and len(cor_l1_l3) < len(cor_l1_l2):\n",
        "        print(f\"liste1 et liste2 ont le plus d'éléments en commun\")\n",
        "    elif len(cor_l1_l2) < len(cor_l2_l3) and len(cor_l1_l3) < len(cor_l2_l3):\n",
        "        print(f\"liste2 et liste3 ont le plus d'éléments en commun\")\n",
        "    elif len(cor_l1_l2) < len(cor_l1_l3) and len(cor_l2_l3) < len(cor_l1_l3):\n",
        "        print(f\"liste1 et liste2 ont le plus d'éléments en commun\")\n",
        "\n",
        "\n",
        "Mission6(l1, l2, l3)"
      ],
      "execution_count": null,
      "outputs": []
    },
    {
      "cell_type": "markdown",
      "metadata": {
        "id": "Ygonr8C4pEgg",
        "colab_type": "text"
      },
      "source": [
        "# Mission 7\n",
        "\n",
        "Create a function that displays all the items in a list of int from smallest to the largest. In other words, a function that sorts the list from smallest to largest."
      ]
    },
    {
      "cell_type": "code",
      "metadata": {
        "id": "dlRdqxco5r8U",
        "colab_type": "code",
        "colab": {}
      },
      "source": [
        "l1 = [3, 5 , 7, 8, 21]\n",
        "\n",
        "def Mission7(liste):\n",
        "    l1.sort()\n",
        "    print(l1)\n",
        "\n",
        "Mission7(l1)"
      ],
      "execution_count": null,
      "outputs": []
    },
    {
      "cell_type": "code",
      "metadata": {
        "id": "yfgzTBBgnRRy",
        "colab_type": "code",
        "colab": {}
      },
      "source": [
        ""
      ],
      "execution_count": null,
      "outputs": []
    }
  ]
}