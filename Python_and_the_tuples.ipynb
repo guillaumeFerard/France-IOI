{
  "nbformat": 4,
  "nbformat_minor": 0,
  "metadata": {
    "colab": {
      "name": "Python and the tuples.ipynb",
      "provenance": [],
      "collapsed_sections": []
    },
    "kernelspec": {
      "name": "python3",
      "display_name": "Python 3"
    }
  },
  "cells": [
    {
      "cell_type": "markdown",
      "metadata": {
        "id": "LoJw-LlCTnWF",
        "colab_type": "text"
      },
      "source": [
        "# Mission 1\n",
        "\n",
        "Create a tuple of your choice containing 10 elements in this order:\n",
        "- 3 integers\n",
        "- 3 strings\n",
        "- 2 lists containing 3 items each\n",
        "- 2 dictionaries containing 3 items (3 key/value pairs) each\n",
        "\n",
        "Now, access the second-to-last item in the second list."
      ]
    },
    {
      "cell_type": "code",
      "metadata": {
        "id": "C2Lk113KSPUO",
        "colab_type": "code",
        "colab": {}
      },
      "source": [
        "test = (1, 2, 3, \n",
        "        \"hello\", \"world\", \"coucou\",\n",
        "        [1, 2, 3], [4, 5, 6], \n",
        "        {\"hello\" : 1, \"world\" : 2, \"coucou\" : 3},\n",
        "        {\"guillaume\" : 1, \"carolane\" : 2, \"iron\": 3})\n",
        "\n",
        "print(test[7][1])\n"
      ],
      "execution_count": null,
      "outputs": []
    },
    {
      "cell_type": "markdown",
      "metadata": {
        "id": "HGoGFI9qxuzW",
        "colab_type": "text"
      },
      "source": [
        "# Mission 2\n",
        "\n",
        "With same tuple, access the last 4 elements using slicing"
      ]
    },
    {
      "cell_type": "code",
      "metadata": {
        "id": "qk097m4Zx4mR",
        "colab_type": "code",
        "colab": {
          "base_uri": "https://localhost:8080/",
          "height": 34
        },
        "outputId": "37729b4c-7e07-4da2-f681-31f8f11202f6"
      },
      "source": [
        "test = (1, 2, 3, \n",
        "        \"hello\", \"world\", \"coucou\",\n",
        "        [1, 2, 3], [4, 5, 6], \n",
        "        {\"hello\" : 1, \"world\" : 2, \"coucou\" : 3},\n",
        "        {\"guillaume\" : 1, \"carolane\" : 2, \"iron\": 3})\n",
        "\n",
        "print(test[-4:])"
      ],
      "execution_count": 4,
      "outputs": [
        {
          "output_type": "stream",
          "text": [
            "([1, 2, 3], [4, 5, 6], {'hello': 1, 'world': 2, 'coucou': 3}, {'guillaume': 1, 'carolane': 2, 'iron': 3})\n"
          ],
          "name": "stdout"
        }
      ]
    },
    {
      "cell_type": "markdown",
      "metadata": {
        "id": "iVHJFx3Px8mY",
        "colab_type": "text"
      },
      "source": [
        "# Mission 3\n",
        "\n",
        "Change the value of the 4th element (the 1st string) of your tuple (oh yes it's possible!)"
      ]
    },
    {
      "cell_type": "code",
      "metadata": {
        "id": "KjpTGhUD8TDo",
        "colab_type": "code",
        "colab": {}
      },
      "source": [
        "test = (1, 2, 3, \n",
        "        \"hello\", \"world\", \"coucou\",\n",
        "        [1, 2, 3], [4, 5, 6], \n",
        "        {\"hello\" : 1, \"world\" : 2, \"coucou\" : 3},\n",
        "        {\"guillaume\" : 1, \"carolane\" : 2, \"iron\": 3})\n",
        "\n",
        "test = list(test)\n",
        "test[3] = \"hello_modified\"\n",
        "test = tuple(test)"
      ],
      "execution_count": null,
      "outputs": []
    },
    {
      "cell_type": "markdown",
      "metadata": {
        "id": "Wp3_jhWS2Foi",
        "colab_type": "text"
      },
      "source": [
        "# Mission 4\n",
        "\n",
        "Create 2 tuples that contain only integers.\n",
        "Create a function that compares them to each other and indicates which one returns the highest total value after adding all their values together. "
      ]
    },
    {
      "cell_type": "code",
      "metadata": {
        "id": "dGMYxaMWx8RO",
        "colab_type": "code",
        "colab": {}
      },
      "source": [
        "test_1 = (1,2,3,4)\n",
        "test_2 = (5,6,7,8)\n",
        "\n",
        "def compare(tuple1, tuple2):\n",
        "    total1 = sum(tuple1)\n",
        "    total2 = sum(tuple2)\n",
        "    if total1 > total2:\n",
        "        print(\"le 1er tuple est le plus grand\")\n",
        "    elif total1 < total2:\n",
        "        print(\"le deuxième tuple est le plus grand\")\n",
        "\n",
        "compare(test_1, test_2)"
      ],
      "execution_count": null,
      "outputs": []
    },
    {
      "cell_type": "markdown",
      "metadata": {
        "id": "Zmk8uviVzPBZ",
        "colab_type": "text"
      },
      "source": [
        "# Mission 5\n",
        "\n",
        "Here's a tuple:\n",
        "\n",
        "my_tuple = (\"data analyst\", \"data scientist\", \"data engineer\", \"data architect\")\n",
        "\n",
        "Create a function that allows you to change one of the values of \"my_tuple\" by indicating the position of the value you want to change, as well as the new value."
      ]
    },
    {
      "cell_type": "code",
      "metadata": {
        "id": "0o-MuRyZ1_7u",
        "colab_type": "code",
        "colab": {
          "base_uri": "https://localhost:8080/",
          "height": 34
        },
        "outputId": "cd455327-0edf-45fe-eaea-22444fe2ca45"
      },
      "source": [
        "my_tuple = (\"data analyst\", \"data scientist\", \"data engineer\", \"data architect\")\n",
        "\n",
        "def change_value(user_tuple, position, new_value):\n",
        "\n",
        "    user_tuple = list(user_tuple)\n",
        "    user_tuple[position] = new_value\n",
        "    user_tuple = tuple(user_tuple)\n",
        "    print(user_tuple)\n",
        "\n",
        "change_value(my_tuple, 1, \"dresseur d'asticot\")\n",
        "\n",
        "  \n",
        "\n"
      ],
      "execution_count": 5,
      "outputs": [
        {
          "output_type": "stream",
          "text": [
            "('data analyst', \"dresseur d'asticot\", 'data engineer', 'data architect')\n"
          ],
          "name": "stdout"
        }
      ]
    }
  ]
}